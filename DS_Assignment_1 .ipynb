{
  "nbformat": 4,
  "nbformat_minor": 0,
  "metadata": {
    "colab": {
      "name": "DS-Assignment-1.ipynb",
      "provenance": [],
      "collapsed_sections": []
    },
    "kernelspec": {
      "name": "python3",
      "display_name": "Python 3"
    }
  },
  "cells": [
    {
      "cell_type": "markdown",
      "metadata": {
        "id": "d1jz11Ca-38b"
      },
      "source": [
        "Q.1) Jumbled word : OBANWRI\n",
        "\n",
        "Ans.: RAINBOW"
      ]
    },
    {
      "cell_type": "markdown",
      "metadata": {
        "id": "b0Co3nvl_I7c"
      },
      "source": [
        "Q.2) Program to print \"LETS UPGRADE\""
      ]
    },
    {
      "cell_type": "code",
      "metadata": {
        "id": "CzBFrStU-oIT",
        "outputId": "7c74000a-aa14-44a9-fd84-03850bcc958a",
        "colab": {
          "base_uri": "https://localhost:8080/"
        }
      },
      "source": [
        "#print \"LETS UPGRADE\"\n",
        "print(\"LETS UPGRADE\")"
      ],
      "execution_count": 1,
      "outputs": [
        {
          "output_type": "stream",
          "text": [
            "LETS UPGRADE\n"
          ],
          "name": "stdout"
        }
      ]
    },
    {
      "cell_type": "markdown",
      "metadata": {
        "id": "MqF-gYrCCw0l"
      },
      "source": [
        "Q.3) Profit and Loss Program"
      ]
    },
    {
      "cell_type": "markdown",
      "metadata": {
        "id": "SBJrqoylC3Nv"
      },
      "source": [
        "cost_price = int(input())\n",
        "selling_price = int(input())\n",
        "\n",
        "if (cost_price == selling_price):\n",
        "  print(\"Neither\\n\")\n",
        "elif (cost_price > selling_price):\n",
        "  print(\"Loss\\n\")\n",
        "else:\n",
        "  print(\"Profit\\n\")"
      ]
    },
    {
      "cell_type": "code",
      "metadata": {
        "id": "_AmnWssuG1U7",
        "outputId": "ee8938f1-4e6f-4588-8d7a-f6a5bb2522bb",
        "colab": {
          "base_uri": "https://localhost:8080/"
        }
      },
      "source": [
        "test_case = int(input())\n",
        "\n",
        "while (test_case != 0):\n",
        "\n",
        "  cost_price = int(input())\n",
        "  selling_price = int(input())\n",
        "\n",
        "  if (cost_price == selling_price):\n",
        "    print(\"Neither\\n\")\n",
        "  elif (cost_price > selling_price):\n",
        "    print(\"Loss\\n\")\n",
        "  else:\n",
        "    print(\"Profit\\n\")\n",
        "  \n",
        "  test_case = test_case - 1"
      ],
      "execution_count": 6,
      "outputs": [
        {
          "output_type": "stream",
          "text": [
            "6\n",
            "20\n",
            "30\n",
            "Profit\n",
            "\n",
            "20\n",
            "10\n",
            "Loss\n",
            "\n",
            "20\n",
            "20\n",
            "Neither\n",
            "\n",
            "19\n",
            "19\n",
            "Neither\n",
            "\n",
            "23\n",
            "7\n",
            "Loss\n",
            "\n",
            "19\n",
            "95\n",
            "Profit\n",
            "\n"
          ],
          "name": "stdout"
        }
      ]
    },
    {
      "cell_type": "markdown",
      "metadata": {
        "id": "HRVyKSQMDHio"
      },
      "source": [
        "Q.4) Convert Euros to Rupees\n",
        "\n",
        "(Assume 1 Euro = Rs. 80)"
      ]
    },
    {
      "cell_type": "code",
      "metadata": {
        "id": "v08e6NXUHUQo",
        "outputId": "116e092c-59f1-40ce-884b-2537acd4daf7",
        "colab": {
          "base_uri": "https://localhost:8080/"
        }
      },
      "source": [
        "test_case = int(input())\n",
        "\n",
        "while (test_case != 0):\n",
        "\n",
        "  num = int(input())\n",
        "\n",
        "  amount = num * 80\n",
        "\n",
        "  print(amount,\"\\n\")\n",
        "  \n",
        "  test_case = test_case - 1"
      ],
      "execution_count": 7,
      "outputs": [
        {
          "output_type": "stream",
          "text": [
            "8\n",
            "20\n",
            "1600 \n",
            "\n",
            "50\n",
            "4000 \n",
            "\n",
            "72\n",
            "5760 \n",
            "\n",
            "7\n",
            "560 \n",
            "\n",
            "35\n",
            "2800 \n",
            "\n",
            "23\n",
            "1840 \n",
            "\n",
            "95\n",
            "7600 \n",
            "\n",
            "18\n",
            "1440 \n",
            "\n"
          ],
          "name": "stdout"
        }
      ]
    }
  ]
}