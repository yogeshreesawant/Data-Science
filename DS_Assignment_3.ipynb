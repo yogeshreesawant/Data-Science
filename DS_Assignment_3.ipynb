{
  "nbformat": 4,
  "nbformat_minor": 0,
  "metadata": {
    "colab": {
      "name": "DS-Assignment-3.ipynb",
      "provenance": []
    },
    "kernelspec": {
      "name": "python3",
      "display_name": "Python 3"
    }
  },
  "cells": [
    {
      "cell_type": "markdown",
      "metadata": {
        "id": "qjiX3g5qRyHg"
      },
      "source": [
        "Q.1) Create a numpy array starting from 2 till 50 with a stepsize of 3."
      ]
    },
    {
      "cell_type": "code",
      "metadata": {
        "id": "hQsIEhNUQ1e2",
        "outputId": "63b7fa8b-cfab-4f69-ad4a-5af79071ef80",
        "colab": {
          "base_uri": "https://localhost:8080/"
        }
      },
      "source": [
        "import numpy as np\n",
        "arr = np.arange(2,50,3)\n",
        "print(arr)"
      ],
      "execution_count": 1,
      "outputs": [
        {
          "output_type": "stream",
          "text": [
            "[ 2  5  8 11 14 17 20 23 26 29 32 35 38 41 44 47]\n"
          ],
          "name": "stdout"
        }
      ]
    },
    {
      "cell_type": "markdown",
      "metadata": {
        "id": "ND-vbSJ1SGaq"
      },
      "source": [
        "Q.2) Accept two lists of 5 elements each from the user.\n",
        "\n",
        "Convert them to numpy arrays. Concatenate these arrays and print it. Also sort these arrays and print it."
      ]
    },
    {
      "cell_type": "code",
      "metadata": {
        "id": "k9m-c3tQSWPV",
        "outputId": "cd40a712-3355-42a1-a9e7-4a2821c6d0ee",
        "colab": {
          "base_uri": "https://localhost:8080/"
        }
      },
      "source": [
        "import numpy as np\n",
        "l1 = []\n",
        "l2 = []\n",
        "\n",
        "for i in range(5):\n",
        "  x = int (input())\n",
        "  l1.append(x)\n",
        "\n",
        "print(\"\\n\")\n",
        "\n",
        "for i in range(5):\n",
        "  x = int (input())\n",
        "  l2.append(x)\n",
        "\n",
        "array1 = np.array(l1)\n",
        "array2 = np.array(l2)\n",
        "\n",
        "\n",
        "#Concatenate arrays\n",
        "array_con = np.concatenate((array1, array2))\n",
        "print(\"\\nConcatenated Array :\")\n",
        "print(array_con)\n",
        "\n",
        "#Sort arrays\n",
        "print(\"\\n Sorted Array1 :\")\n",
        "print(np.sort(l1))\n",
        "print(\"\\nSorted Array2 :\")\n",
        "print(np.sort(l2))\n",
        "print(\"\\nSorted Concatenated Array :\")\n",
        "print(np.sort(array_con))"
      ],
      "execution_count": 2,
      "outputs": [
        {
          "output_type": "stream",
          "text": [
            "15\n",
            "45\n",
            "20\n",
            "10\n",
            "9\n",
            "\n",
            "\n",
            "56\n",
            "48\n",
            "12\n",
            "84\n",
            "98\n",
            "\n",
            "Concatenated Array :\n",
            "[15 45 20 10  9 56 48 12 84 98]\n",
            "\n",
            " Sorted Array1 :\n",
            "[ 9 10 15 20 45]\n",
            "\n",
            "Sorted Array2 :\n",
            "[12 48 56 84 98]\n",
            "\n",
            "Sorted Concatenated Array :\n",
            "[ 9 10 12 15 20 45 48 56 84 98]\n"
          ],
          "name": "stdout"
        }
      ]
    },
    {
      "cell_type": "markdown",
      "metadata": {
        "id": "eB2ErIWSVOy6"
      },
      "source": [
        "Q.3) Write a code snippet to find the dimensions of a ndarray and its size."
      ]
    },
    {
      "cell_type": "code",
      "metadata": {
        "id": "uk6MjjVoVbTV",
        "outputId": "a7dcd478-af28-4b61-b4a0-d341e0e53788",
        "colab": {
          "base_uri": "https://localhost:8080/"
        }
      },
      "source": [
        "import numpy as np\n",
        "\n",
        "arr = np.array([[2,2,4],[4,5,6],[1,2,5],[3,2,1]])\n",
        "print(\"Array :\")\n",
        "print(arr)\n",
        "\n",
        "print(\"Dimention of Array :\")\n",
        "print(\"Size of\", arr.shape,\"array :\", arr.size)"
      ],
      "execution_count": 3,
      "outputs": [
        {
          "output_type": "stream",
          "text": [
            "Array :\n",
            "[[2 2 4]\n",
            " [4 5 6]\n",
            " [1 2 5]\n",
            " [3 2 1]]\n",
            "Dimention of Array :\n",
            "Size of (4, 3) array : 12\n"
          ],
          "name": "stdout"
        }
      ]
    },
    {
      "cell_type": "markdown",
      "metadata": {
        "id": "vztch9UVWpSj"
      },
      "source": [
        "Q.4) How to convert a 1D array into a 2D array? Demonstrate with the help of a code snippet\n",
        "\n",
        "Hint: np.newaxis, np.expand_dims"
      ]
    },
    {
      "cell_type": "code",
      "metadata": {
        "id": "BfnpZP1iWxrU",
        "outputId": "583e1495-3dbc-4d87-a121-ac704c77058a",
        "colab": {
          "base_uri": "https://localhost:8080/"
        }
      },
      "source": [
        "import numpy as np\n",
        "\n",
        "arr = np.array([1,2,3,4,5,6,7,8,9])\n",
        "print(\"1-D Array :\")\n",
        "print(arr)\n",
        "\n",
        "print(\"Dimension of 1-D array :\")\n",
        "print(arr.shape)\n",
        "\n",
        "print(\"\\nNew dimension of 2-D array (using newaxis) :\")\n",
        "arr1 = arr[np.newaxis,:]\n",
        "print(arr1.shape)\n",
        "\n",
        "print(\"\\nNew dimension of 2-D array (using newaxis) :\")\n",
        "arr1 = arr[:,np.newaxis]\n",
        "print(arr1.shape)\n",
        "\n",
        "print(\"\\nNew dimension of 2-D array (using expand_dims):\")\n",
        "arr2 = np.expand_dims(arr, axis=1)\n",
        "print(arr2.shape)\n",
        "\n",
        "print(\"\\nNew dimension of 2-D array (using expand_dims) :\")\n",
        "arr2 = np.expand_dims(arr, axis=0)\n",
        "print(arr2.shape)"
      ],
      "execution_count": 4,
      "outputs": [
        {
          "output_type": "stream",
          "text": [
            "1-D Array :\n",
            "[1 2 3 4 5 6 7 8 9]\n",
            "Dimension of 1-D array :\n",
            "(9,)\n",
            "\n",
            "New dimension of 2-D array (using newaxis) :\n",
            "(1, 9)\n",
            "\n",
            "New dimension of 2-D array (using newaxis) :\n",
            "(9, 1)\n",
            "\n",
            "New dimension of 2-D array (using expand_dims):\n",
            "(9, 1)\n",
            "\n",
            "New dimension of 2-D array (using expand_dims) :\n",
            "(1, 9)\n"
          ],
          "name": "stdout"
        }
      ]
    },
    {
      "cell_type": "markdown",
      "metadata": {
        "id": "QIyI9mNhbzax"
      },
      "source": [
        "Q.5) Consider two square numpy arrays. Stack them vertically and horizontally.\n",
        "\n",
        "Hint: Use vstack(), hstack()"
      ]
    },
    {
      "cell_type": "code",
      "metadata": {
        "id": "DSVbTwG6cChu",
        "outputId": "0933f814-8570-4dc0-f8eb-09fbdbebadc1",
        "colab": {
          "base_uri": "https://localhost:8080/"
        }
      },
      "source": [
        "import numpy as np\n",
        "\n",
        "arr1 = np.array([1,2,3,4,5,6,7,8,9])\n",
        "arr2 = np.array([9,8,7,6,5,4,3,2,1])\n",
        "\n",
        "print(\"Vertically Stacked Array :\")\n",
        "print(np.vstack((arr1, arr2)))\n",
        "\n",
        "print(\"\\nHorizontally Stacked Array :\")\n",
        "print(np.hstack((arr1, arr2)))"
      ],
      "execution_count": 5,
      "outputs": [
        {
          "output_type": "stream",
          "text": [
            "Vertically Stacked Array :\n",
            "[[1 2 3 4 5 6 7 8 9]\n",
            " [9 8 7 6 5 4 3 2 1]]\n",
            "\n",
            "Horizontally Stacked Array :\n",
            "[1 2 3 4 5 6 7 8 9 9 8 7 6 5 4 3 2 1]\n"
          ],
          "name": "stdout"
        }
      ]
    },
    {
      "cell_type": "markdown",
      "metadata": {
        "id": "ZjjBJ-O0d9Xv"
      },
      "source": [
        "Q.6) How to get unique items and counts of unique items?"
      ]
    },
    {
      "cell_type": "code",
      "metadata": {
        "id": "j9kfpHK7fV4P",
        "outputId": "881e8f42-daad-4115-a8c5-241c403dd5c1",
        "colab": {
          "base_uri": "https://localhost:8080/"
        }
      },
      "source": [
        "import numpy as np\n",
        "\n",
        "arr = np.array([1,2,3,2,2,1,5,4,6])\n",
        "\n",
        "unique_ele, count_ele= np.unique(arr, return_counts = True)\n",
        "\n",
        "ele_count = np.asarray((unique_ele, count_ele)).T\n",
        "print(ele_count)"
      ],
      "execution_count": 6,
      "outputs": [
        {
          "output_type": "stream",
          "text": [
            "[[1 2]\n",
            " [2 3]\n",
            " [3 1]\n",
            " [4 1]\n",
            " [5 1]\n",
            " [6 1]]\n"
          ],
          "name": "stdout"
        }
      ]
    }
  ]
}