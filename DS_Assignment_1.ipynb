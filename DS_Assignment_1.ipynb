{
  "nbformat": 4,
  "nbformat_minor": 0,
  "metadata": {
    "colab": {
      "name": "DS-Assignment-1.ipynb",
      "provenance": [],
      "collapsed_sections": []
    },
    "kernelspec": {
      "name": "python3",
      "display_name": "Python 3"
    }
  },
  "cells": [
    {
      "cell_type": "markdown",
      "metadata": {
        "id": "d1jz11Ca-38b"
      },
      "source": [
        "Q.1) Jumbled word : OBANWRI\n",
        "\n",
        "Ans.: RAINBOW"
      ]
    },
    {
      "cell_type": "markdown",
      "metadata": {
        "id": "b0Co3nvl_I7c"
      },
      "source": [
        "Q.2) Program to print \"LETS UPGRADE\""
      ]
    },
    {
      "cell_type": "code",
      "metadata": {
        "id": "CzBFrStU-oIT",
        "outputId": "7c74000a-aa14-44a9-fd84-03850bcc958a",
        "colab": {
          "base_uri": "https://localhost:8080/"
        }
      },
      "source": [
        "#print \"LETS UPGRADE\"\n",
        "print(\"LETS UPGRADE\")"
      ],
      "execution_count": 1,
      "outputs": [
        {
          "output_type": "stream",
          "text": [
            "LETS UPGRADE\n"
          ],
          "name": "stdout"
        }
      ]
    },
    {
      "cell_type": "markdown",
      "metadata": {
        "id": "MqF-gYrCCw0l"
      },
      "source": [
        "Q.3) Profit and Loss Program"
      ]
    },
    {
      "cell_type": "code",
      "metadata": {
        "id": "SBJrqoylC3Nv",
        "outputId": "f56f5aca-6b72-4950-de2f-b03eccb45c68",
        "colab": {
          "base_uri": "https://localhost:8080/"
        }
      },
      "source": [
        "cost_price = int(input())\n",
        "selling_price = int(input())\n",
        "\n",
        "if (cost_price == selling_price):\n",
        "  print(\"Neither\\n\")\n",
        "elif (cost_price > selling_price):\n",
        "  print(\"Loss\\n\")\n",
        "else:\n",
        "  print(\"Profit\\n\")"
      ],
      "execution_count": 4,
      "outputs": [
        {
          "output_type": "stream",
          "text": [
            "20\n",
            "10\n",
            "Loss\n",
            "\n"
          ],
          "name": "stdout"
        }
      ]
    },
    {
      "cell_type": "markdown",
      "metadata": {
        "id": "HRVyKSQMDHio"
      },
      "source": [
        "Q.4) Convert Euros to Rupees\n",
        "\n",
        "(Assume 1 Euro = Rs. 80)"
      ]
    },
    {
      "cell_type": "code",
      "metadata": {
        "id": "-LfGJeJpDc6N",
        "outputId": "a6e435f8-3763-48bf-ad79-539ba6294f72",
        "colab": {
          "base_uri": "https://localhost:8080/"
        }
      },
      "source": [
        "num = int(input())\n",
        "\n",
        "amount = num * 80\n",
        "print(amount)"
      ],
      "execution_count": 3,
      "outputs": [
        {
          "output_type": "stream",
          "text": [
            "20\n",
            "1600\n"
          ],
          "name": "stdout"
        }
      ]
    }
  ]
}