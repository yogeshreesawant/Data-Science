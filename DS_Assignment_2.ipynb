{
  "nbformat": 4,
  "nbformat_minor": 0,
  "metadata": {
    "colab": {
      "name": "DS-Assignment-2.ipynb",
      "provenance": []
    },
    "kernelspec": {
      "name": "python3",
      "display_name": "Python 3"
    }
  },
  "cells": [
    {
      "cell_type": "markdown",
      "metadata": {
        "id": "i4kUAwStRjQn"
      },
      "source": [
        "Q.1) Create an empty list. Accept 10 numbers from the user and append to it the list if it is an even number."
      ]
    },
    {
      "cell_type": "code",
      "metadata": {
        "id": "T8Hlja3JRXh3",
        "outputId": "a83263ef-ae02-4a9c-c834-51db8a9a716c",
        "colab": {
          "base_uri": "https://localhost:8080/"
        }
      },
      "source": [
        "new_list = []\n",
        "\n",
        "count = 10\n",
        "while (count != 0):\n",
        "  num = int(input())\n",
        "\n",
        "  if (num%2==0):\n",
        "    new_list.append(num)\n",
        "  count = count-1\n",
        "print(new_list)"
      ],
      "execution_count": 1,
      "outputs": [
        {
          "output_type": "stream",
          "text": [
            "50\n",
            "120\n",
            "65\n",
            "45\n",
            "81\n",
            "65\n",
            "71\n",
            "21\n",
            "12\n",
            "40\n",
            "[50, 120, 12, 40]\n"
          ],
          "name": "stdout"
        }
      ]
    },
    {
      "cell_type": "markdown",
      "metadata": {
        "id": "bxf-JoDwWY4v"
      },
      "source": [
        "Q.2) Create a notebook on LIST \n",
        "COMPREHENSION.\n",
        "\n",
        "--> LIST COMPREHENSION\n",
        "\n",
        "List comprehension is a consise way of creating list.\n",
        "\n",
        "We can create list where each element is the result of some operations applied on each member of another sequence or iterator.\n",
        "\n",
        "Ex. Create list of squares of number from 1-9"
      ]
    },
    {
      "cell_type": "code",
      "metadata": {
        "id": "IwEY_SqP070n",
        "outputId": "d4a7a349-e72d-48b0-af7c-1ff03abe83f3",
        "colab": {
          "base_uri": "https://localhost:8080/"
        }
      },
      "source": [
        "squares = [x**2 for x in range(10)]\n",
        "print(squares)"
      ],
      "execution_count": 4,
      "outputs": [
        {
          "output_type": "stream",
          "text": [
            "[0, 1, 4, 9, 16, 25, 36, 49, 64, 81]\n"
          ],
          "name": "stdout"
        }
      ]
    },
    {
      "cell_type": "markdown",
      "metadata": {
        "id": "peXw9bUn1LXE"
      },
      "source": [
        "Ex. Create list of cubes of number from 1-9"
      ]
    },
    {
      "cell_type": "code",
      "metadata": {
        "id": "L61nqEhh1EHf",
        "outputId": "d62272cc-4c74-4c56-ecf0-f1b4b2ca698a",
        "colab": {
          "base_uri": "https://localhost:8080/"
        }
      },
      "source": [
        "cubes = [x**3 for x in range(10)]\n",
        "print(cubes)"
      ],
      "execution_count": 5,
      "outputs": [
        {
          "output_type": "stream",
          "text": [
            "[0, 1, 8, 27, 64, 125, 216, 343, 512, 729]\n"
          ],
          "name": "stdout"
        }
      ]
    },
    {
      "cell_type": "markdown",
      "metadata": {
        "id": "hdZya3id1Z3a"
      },
      "source": [
        "A list comprehension consists of brackets containing an expression followed by a for clause, then zero or more for or if clauses. The result will be a new list resulting from evaluating the expression in the context of the for and if clauses which follow it."
      ]
    },
    {
      "cell_type": "markdown",
      "metadata": {
        "id": "4Ezuocg7XAeB"
      },
      "source": [
        "Q.3) Given a number n, you have to write a program that generates a dictionary d which\n",
        "contains (i, i*i), where i is from 1 to n (both included).\n",
        "Then you have to just print this dictionary d."
      ]
    },
    {
      "cell_type": "code",
      "metadata": {
        "id": "34vx9gjWY5SP",
        "outputId": "3d934008-2b38-4c60-ee2a-f85288ad3b2b",
        "colab": {
          "base_uri": "https://localhost:8080/"
        }
      },
      "source": [
        "test_case = int(input())\n",
        "\n",
        "while (test_case != 0):\n",
        "  print(\"\\n\")\n",
        "  num = int(input())\n",
        "  d = dict()\n",
        "\n",
        "  for i in range(1, num+1):\n",
        "    d[i] = i*i\n",
        "\n",
        "  print(d)\n",
        "  test_case = test_case - 1"
      ],
      "execution_count": 2,
      "outputs": [
        {
          "output_type": "stream",
          "text": [
            "2\n",
            "\n",
            "\n",
            "4\n",
            "{1: 1, 2: 4, 3: 9, 4: 16}\n",
            "\n",
            "\n",
            "8\n",
            "{1: 1, 2: 4, 3: 9, 4: 16, 5: 25, 6: 36, 7: 49, 8: 64}\n"
          ],
          "name": "stdout"
        }
      ]
    },
    {
      "cell_type": "markdown",
      "metadata": {
        "id": "PP4zbC7BZAy7"
      },
      "source": [
        "Q.4) There is a robot which wants to go the charging point to charge itself.\n",
        "The robot moves in a 2-D plane from the original point (0,0). The robot can\n",
        "move toward UP, DOWN, LEFT and RIGHT with given steps.\n",
        "The trace of robot movement is shown as the following:\n",
        "\n",
        "UP 5\n",
        "\n",
        "DOWN 3\n",
        "\n",
        "LEFT 3\n",
        "\n",
        "RIGHT 2\n",
        "\n",
        "Then, the output of the program should be:\n",
        "2\n",
        "The numbers after the direction are steps.\n",
        "Write a program to compute the distance between the current position after\n",
        "a sequence of movement and original point. If the distance is a float, then\n",
        "just print the nearest integer (use round() function for that and then convert\n",
        "it into an integer)."
      ]
    },
    {
      "cell_type": "code",
      "metadata": {
        "id": "a6Uq856bZROK",
        "outputId": "f8db8acb-8d45-47ca-b511-294f278aa704",
        "colab": {
          "base_uri": "https://localhost:8080/"
        }
      },
      "source": [
        "import math\n",
        "\n",
        "x, y = 0, 0\n",
        "count = int(input())\n",
        "\n",
        "while (count != 0):\n",
        "    step = input()\n",
        "    step = step.split(\" \")\n",
        "    if step[0] == \"UP\":\n",
        "      y = y + int(step[1])\n",
        "    elif step[0] == \"DOWN\":\n",
        "      y = y - int(step[1])\n",
        "    elif step[0] == \"LEFT\":\n",
        "      x = x - int(step[1])\n",
        "    elif step[0] == \"RIGHT\":\n",
        "      x = x + int(step[1])\n",
        "\n",
        "    count = count - 1\n",
        "c = math.sqrt(x**2 + y**2)\n",
        "\n",
        "print(\"\\n\",round(c))"
      ],
      "execution_count": 8,
      "outputs": [
        {
          "output_type": "stream",
          "text": [
            "4\n",
            "UP 5\n",
            "DOWN 3\n",
            "LEFT 3\n",
            "RIGHT 2\n",
            "\n",
            " 2\n"
          ],
          "name": "stdout"
        }
      ]
    }
  ]
}